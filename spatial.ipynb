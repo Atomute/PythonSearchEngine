{
 "cells": [
  {
   "cell_type": "code",
   "execution_count": 56,
   "metadata": {},
   "outputs": [
    {
     "data": {
      "text/html": [
       "<div>\n",
       "<style scoped>\n",
       "    .dataframe tbody tr th:only-of-type {\n",
       "        vertical-align: middle;\n",
       "    }\n",
       "\n",
       "    .dataframe tbody tr th {\n",
       "        vertical-align: top;\n",
       "    }\n",
       "\n",
       "    .dataframe thead th {\n",
       "        text-align: right;\n",
       "    }\n",
       "</style>\n",
       "<table border=\"1\" class=\"dataframe\">\n",
       "  <thead>\n",
       "    <tr style=\"text-align: right;\">\n",
       "      <th></th>\n",
       "      <th>websiteID</th>\n",
       "      <th>frequency</th>\n",
       "      <th>index_id</th>\n",
       "      <th>word</th>\n",
       "    </tr>\n",
       "  </thead>\n",
       "  <tbody>\n",
       "    <tr>\n",
       "      <th>0</th>\n",
       "      <td>9</td>\n",
       "      <td>2</td>\n",
       "      <td>6012</td>\n",
       "      <td>free</td>\n",
       "    </tr>\n",
       "    <tr>\n",
       "      <th>1</th>\n",
       "      <td>10</td>\n",
       "      <td>4</td>\n",
       "      <td>6012</td>\n",
       "      <td>free</td>\n",
       "    </tr>\n",
       "    <tr>\n",
       "      <th>2</th>\n",
       "      <td>11</td>\n",
       "      <td>3</td>\n",
       "      <td>6012</td>\n",
       "      <td>free</td>\n",
       "    </tr>\n",
       "    <tr>\n",
       "      <th>3</th>\n",
       "      <td>12</td>\n",
       "      <td>5</td>\n",
       "      <td>6012</td>\n",
       "      <td>free</td>\n",
       "    </tr>\n",
       "    <tr>\n",
       "      <th>4</th>\n",
       "      <td>14</td>\n",
       "      <td>4</td>\n",
       "      <td>6012</td>\n",
       "      <td>free</td>\n",
       "    </tr>\n",
       "  </tbody>\n",
       "</table>\n",
       "</div>"
      ],
      "text/plain": [
       "   websiteID  frequency  index_id  word\n",
       "0          9          2      6012  free\n",
       "1         10          4      6012  free\n",
       "2         11          3      6012  free\n",
       "3         12          5      6012  free\n",
       "4         14          4      6012  free"
      ]
     },
     "execution_count": 56,
     "metadata": {},
     "output_type": "execute_result"
    }
   ],
   "source": [
    "import plotly.express as px\n",
    "import sqlite3\n",
    "import pandas as pd\n",
    "\n",
    "# Load dataurl\n",
    "url='free'\n",
    "conn = sqlite3.connect('testt.sqlite3')\n",
    "\n",
    "query = f\"SELECT website_inverted_index.websiteID,website_inverted_index.frequency,website_inverted_index.index_id,keyword.word  FROM website_inverted_index JOIN keyword ON website_inverted_index.index_id = keyword.index_id JOIN websites ON websites.websiteID = website_inverted_index.websiteID WHERE word = '{url}'\"\n",
    "df = pd.read_sql_query(query, conn)\n",
    "# Create the plot\n",
    "df.head()\n",
    "# fig = px.choropleth(df, locations=\"countryISO\", color=\"frequency\",\n",
    "#                      hover_name=\"country\",\n",
    "#                      projection=\"natural earth\")\n",
    "\n",
    "# # # Show the plot\n",
    "# fig.show()"
   ]
  },
  {
   "cell_type": "code",
   "execution_count": 40,
   "metadata": {},
   "outputs": [
    {
     "name": "stdout",
     "output_type": "stream",
     "text": [
      "(49573, 1, 'cart', 58)\n",
      "(49573, 1, 'cart', 59)\n",
      "(49573, 2, 'cart', 66)\n",
      "(49573, 3, 'cart', 100)\n",
      "(49573, 4, 'cart', 110)\n",
      "(49573, 2, 'cart', 139)\n",
      "(49573, 1, 'cart', 152)\n",
      "(49573, 2, 'cart', 160)\n",
      "(49573, 2, 'cart', 190)\n"
     ]
    }
   ],
   "source": [
    "import plotly.express as px\n",
    "import sqlite3\n",
    "import pandas as pd\n",
    "\n",
    "# Load dataurl\n",
    "url='cart'\n",
    "conn = sqlite3.connect('testt.sqlite3')\n",
    "cursor=conn.cursor()\n",
    "cursor.execute(f\"SELECT website_inverted_index.index_id,website_inverted_index.frequency,keyword.word ,website_inverted_index.websiteID FROM website_inverted_index JOIN keyword ON website_inverted_index.index_id = keyword.index_id JOIN websites ON websites.websiteID = website_inverted_index.websiteID WHERE word = '{word}'\")\n",
    "wordinweb=cursor.fetchall()\n",
    "for index_id,frequency in enumerate(wordinweb):\n",
    "    print(frequency)"
   ]
  },
  {
   "cell_type": "code",
   "execution_count": 11,
   "metadata": {},
   "outputs": [
    {
     "data": {
      "text/html": [
       "<div>\n",
       "<style scoped>\n",
       "    .dataframe tbody tr th:only-of-type {\n",
       "        vertical-align: middle;\n",
       "    }\n",
       "\n",
       "    .dataframe tbody tr th {\n",
       "        vertical-align: top;\n",
       "    }\n",
       "\n",
       "    .dataframe thead th {\n",
       "        text-align: right;\n",
       "    }\n",
       "</style>\n",
       "<table border=\"1\" class=\"dataframe\">\n",
       "  <thead>\n",
       "    <tr style=\"text-align: right;\">\n",
       "      <th></th>\n",
       "      <th>websiteID</th>\n",
       "      <th>URL</th>\n",
       "      <th>title</th>\n",
       "      <th>country_id</th>\n",
       "      <th>country</th>\n",
       "      <th>countryISO</th>\n",
       "      <th>frequency_sum</th>\n",
       "    </tr>\n",
       "  </thead>\n",
       "  <tbody>\n",
       "    <tr>\n",
       "      <th>0</th>\n",
       "      <td>1</td>\n",
       "      <td>https://southpark.fandom.com/wiki/South_Park_A...</td>\n",
       "      <td>South Park Archives | Fandom</td>\n",
       "      <td>1</td>\n",
       "      <td>indonesia</td>\n",
       "      <td>IDN</td>\n",
       "      <td>1</td>\n",
       "    </tr>\n",
       "  </tbody>\n",
       "</table>\n",
       "</div>"
      ],
      "text/plain": [
       "   websiteID                                                URL  \\\n",
       "0          1  https://southpark.fandom.com/wiki/South_Park_A...   \n",
       "\n",
       "                          title  country_id    country countryISO  \\\n",
       "0  South Park Archives | Fandom           1  indonesia        IDN   \n",
       "\n",
       "   frequency_sum  \n",
       "0              1  "
      ]
     },
     "execution_count": 11,
     "metadata": {},
     "output_type": "execute_result"
    }
   ],
   "source": [
    "import plotly.express as px\n",
    "import sqlite3\n",
    "import pandas as pd\n",
    "\n",
    "\n",
    "# Load data\n",
    "conn = sqlite3.connect('testt.sqlite3')\n",
    "query = \"SELECT websites.websiteID,websites.URL,websites.title,Country.country_id, Country.country, Country.countryISO, SUM(Website_country.frequency) as frequency_sum FROM Country INNER JOIN Website_country ON Country.country_id = Website_country.wc_id JOIN websites ON Website_country.website_id = websites.websiteID  WHERE websites.websiteID IN (1,2,3) GROUP BY Country.country_id, Country.country, Country.countryISO  \"\n",
    "df = pd.read_sql_query(query, conn)\n",
    "df.head()\n",
    "# fig = px.choropleth(df, locations=\"countryISO\", color=\"frequency_sum\",\n",
    "#                      hover_name=\"country\",\n",
    "#                      projection=\"natural earth\")\n",
    "\n",
    "# # # Show the plot\n",
    "# fig.show()\n"
   ]
  },
  {
   "cell_type": "code",
   "execution_count": 19,
   "metadata": {},
   "outputs": [
    {
     "ename": "DatabaseError",
     "evalue": "Execution failed on sql 'SELECT website_inverted_index.index_id,website_inverted_index.frequency,keyword.word FROM website_inverted_index JOIN keyword ON website_inverted_index.index_id = keyword.index_id WHERE word = cart': no such column: cart",
     "output_type": "error",
     "traceback": [
      "\u001b[0;31m---------------------------------------------------------------------------\u001b[0m",
      "\u001b[0;31mOperationalError\u001b[0m                          Traceback (most recent call last)",
      "File \u001b[0;32m/opt/homebrew/lib/python3.10/site-packages/pandas/io/sql.py:2018\u001b[0m, in \u001b[0;36mSQLiteDatabase.execute\u001b[0;34m(self, *args, **kwargs)\u001b[0m\n\u001b[1;32m   2017\u001b[0m \u001b[39mtry\u001b[39;00m:\n\u001b[0;32m-> 2018\u001b[0m     cur\u001b[39m.\u001b[39;49mexecute(\u001b[39m*\u001b[39;49margs, \u001b[39m*\u001b[39;49m\u001b[39m*\u001b[39;49mkwargs)\n\u001b[1;32m   2019\u001b[0m     \u001b[39mreturn\u001b[39;00m cur\n",
      "\u001b[0;31mOperationalError\u001b[0m: no such column: cart",
      "\nThe above exception was the direct cause of the following exception:\n",
      "\u001b[0;31mDatabaseError\u001b[0m                             Traceback (most recent call last)",
      "Cell \u001b[0;32mIn[19], line 9\u001b[0m\n\u001b[1;32m      7\u001b[0m word\u001b[38;5;241m=\u001b[39m\u001b[38;5;124m'\u001b[39m\u001b[38;5;124mcart\u001b[39m\u001b[38;5;124m'\u001b[39m\n\u001b[1;32m      8\u001b[0m query\u001b[38;5;241m=\u001b[39m\u001b[38;5;124m\"\u001b[39m\u001b[38;5;124mSELECT website_inverted_index.index_id,website_inverted_index.frequency,keyword.word FROM website_inverted_index JOIN keyword ON website_inverted_index.index_id = keyword.index_id WHERE word = cart\u001b[39m\u001b[38;5;124m\"\u001b[39m\n\u001b[0;32m----> 9\u001b[0m df \u001b[38;5;241m=\u001b[39m \u001b[43mpd\u001b[49m\u001b[38;5;241;43m.\u001b[39;49m\u001b[43mread_sql_query\u001b[49m\u001b[43m(\u001b[49m\u001b[43mquery\u001b[49m\u001b[43m,\u001b[49m\u001b[43m \u001b[49m\u001b[43mconn\u001b[49m\u001b[43m)\u001b[49m\n\u001b[1;32m     10\u001b[0m df\u001b[38;5;241m.\u001b[39mhead()\n\u001b[1;32m     11\u001b[0m \u001b[38;5;66;03m# fig = px.choropleth(df, locations=\"countryISO\", color=\"frequency_sum\",\u001b[39;00m\n\u001b[1;32m     12\u001b[0m \u001b[38;5;66;03m#                     hover_name=\"country\",\u001b[39;00m\n\u001b[1;32m     13\u001b[0m \u001b[38;5;66;03m#                     projection=\"natural earth\")\u001b[39;00m\n\u001b[1;32m     14\u001b[0m \u001b[38;5;66;03m# fig.show()\u001b[39;00m\n",
      "File \u001b[0;32m/opt/homebrew/lib/python3.10/site-packages/pandas/io/sql.py:397\u001b[0m, in \u001b[0;36mread_sql_query\u001b[0;34m(sql, con, index_col, coerce_float, params, parse_dates, chunksize, dtype)\u001b[0m\n\u001b[1;32m    339\u001b[0m \u001b[39m\u001b[39m\u001b[39m\"\"\"\u001b[39;00m\n\u001b[1;32m    340\u001b[0m \u001b[39mRead SQL query into a DataFrame.\u001b[39;00m\n\u001b[1;32m    341\u001b[0m \n\u001b[0;32m   (...)\u001b[0m\n\u001b[1;32m    394\u001b[0m \u001b[39mparameter will be converted to UTC.\u001b[39;00m\n\u001b[1;32m    395\u001b[0m \u001b[39m\"\"\"\u001b[39;00m\n\u001b[1;32m    396\u001b[0m pandas_sql \u001b[39m=\u001b[39m pandasSQL_builder(con)\n\u001b[0;32m--> 397\u001b[0m \u001b[39mreturn\u001b[39;00m pandas_sql\u001b[39m.\u001b[39;49mread_query(\n\u001b[1;32m    398\u001b[0m     sql,\n\u001b[1;32m    399\u001b[0m     index_col\u001b[39m=\u001b[39;49mindex_col,\n\u001b[1;32m    400\u001b[0m     params\u001b[39m=\u001b[39;49mparams,\n\u001b[1;32m    401\u001b[0m     coerce_float\u001b[39m=\u001b[39;49mcoerce_float,\n\u001b[1;32m    402\u001b[0m     parse_dates\u001b[39m=\u001b[39;49mparse_dates,\n\u001b[1;32m    403\u001b[0m     chunksize\u001b[39m=\u001b[39;49mchunksize,\n\u001b[1;32m    404\u001b[0m     dtype\u001b[39m=\u001b[39;49mdtype,\n\u001b[1;32m    405\u001b[0m )\n",
      "File \u001b[0;32m/opt/homebrew/lib/python3.10/site-packages/pandas/io/sql.py:2078\u001b[0m, in \u001b[0;36mSQLiteDatabase.read_query\u001b[0;34m(self, sql, index_col, coerce_float, params, parse_dates, chunksize, dtype)\u001b[0m\n\u001b[1;32m   2066\u001b[0m \u001b[39mdef\u001b[39;00m \u001b[39mread_query\u001b[39m(\n\u001b[1;32m   2067\u001b[0m     \u001b[39mself\u001b[39m,\n\u001b[1;32m   2068\u001b[0m     sql,\n\u001b[0;32m   (...)\u001b[0m\n\u001b[1;32m   2074\u001b[0m     dtype: DtypeArg \u001b[39m|\u001b[39m \u001b[39mNone\u001b[39;00m \u001b[39m=\u001b[39m \u001b[39mNone\u001b[39;00m,\n\u001b[1;32m   2075\u001b[0m ) \u001b[39m-\u001b[39m\u001b[39m>\u001b[39m DataFrame \u001b[39m|\u001b[39m Iterator[DataFrame]:\n\u001b[1;32m   2077\u001b[0m     args \u001b[39m=\u001b[39m _convert_params(sql, params)\n\u001b[0;32m-> 2078\u001b[0m     cursor \u001b[39m=\u001b[39m \u001b[39mself\u001b[39;49m\u001b[39m.\u001b[39;49mexecute(\u001b[39m*\u001b[39;49margs)\n\u001b[1;32m   2079\u001b[0m     columns \u001b[39m=\u001b[39m [col_desc[\u001b[39m0\u001b[39m] \u001b[39mfor\u001b[39;00m col_desc \u001b[39min\u001b[39;00m cursor\u001b[39m.\u001b[39mdescription]\n\u001b[1;32m   2081\u001b[0m     \u001b[39mif\u001b[39;00m chunksize \u001b[39mis\u001b[39;00m \u001b[39mnot\u001b[39;00m \u001b[39mNone\u001b[39;00m:\n",
      "File \u001b[0;32m/opt/homebrew/lib/python3.10/site-packages/pandas/io/sql.py:2030\u001b[0m, in \u001b[0;36mSQLiteDatabase.execute\u001b[0;34m(self, *args, **kwargs)\u001b[0m\n\u001b[1;32m   2027\u001b[0m     \u001b[39mraise\u001b[39;00m ex \u001b[39mfrom\u001b[39;00m \u001b[39minner_exc\u001b[39;00m\n\u001b[1;32m   2029\u001b[0m ex \u001b[39m=\u001b[39m DatabaseError(\u001b[39mf\u001b[39m\u001b[39m\"\u001b[39m\u001b[39mExecution failed on sql \u001b[39m\u001b[39m'\u001b[39m\u001b[39m{\u001b[39;00margs[\u001b[39m0\u001b[39m]\u001b[39m}\u001b[39;00m\u001b[39m'\u001b[39m\u001b[39m: \u001b[39m\u001b[39m{\u001b[39;00mexc\u001b[39m}\u001b[39;00m\u001b[39m\"\u001b[39m)\n\u001b[0;32m-> 2030\u001b[0m \u001b[39mraise\u001b[39;00m ex \u001b[39mfrom\u001b[39;00m \u001b[39mexc\u001b[39;00m\n",
      "\u001b[0;31mDatabaseError\u001b[0m: Execution failed on sql 'SELECT website_inverted_index.index_id,website_inverted_index.frequency,keyword.word FROM website_inverted_index JOIN keyword ON website_inverted_index.index_id = keyword.index_id WHERE word = cart': no such column: cart"
     ]
    }
   ],
   "source": [
    "import plotly.express as px\n",
    "import sqlite3\n",
    "import pandas as pd\n",
    "\n",
    "conn = sqlite3.connect('testt.sqlite3')\n",
    "\n",
    "word='cart'\n",
    "query=\"SELECT website_inverted_index.index_id,website_inverted_index.frequency,keyword.word FROM website_inverted_index JOIN keyword ON website_inverted_index.index_id = keyword.index_id WHERE word = cart\"\n",
    "df = pd.read_sql_query(query, conn)\n",
    "df.head()\n",
    "# fig = px.choropleth(df, locations=\"countryISO\", color=\"frequency_sum\",\n",
    "#                     hover_name=\"country\",\n",
    "#                     projection=\"natural earth\")\n",
    "# fig.show()"
   ]
  },
  {
   "cell_type": "code",
   "execution_count": null,
   "metadata": {},
   "outputs": [],
   "source": [
    "query = \"SELECT websites.websiteID,websites.URL,websites.title,Country.country_id, Country.country, Country.countryISO, SUM(Website_country.frequency) as frequency_sum FROM Country INNER JOIN Website_country ON Country.country_id = Website_country.wc_id JOIN websites ON Website_country.website_id = websites.websiteID  WHERE websites.URL IN ({}) GROUP BY Country.country_id, Country.country, Country.countryISO  \".format(','.join(str(i)for i in dum ))"
   ]
  }
 ],
 "metadata": {
  "kernelspec": {
   "display_name": "Python 3.10.9 64-bit",
   "language": "python",
   "name": "python3"
  },
  "language_info": {
   "codemirror_mode": {
    "name": "ipython",
    "version": 3
   },
   "file_extension": ".py",
   "mimetype": "text/x-python",
   "name": "python",
   "nbconvert_exporter": "python",
   "pygments_lexer": "ipython3",
   "version": "3.10.10"
  },
  "orig_nbformat": 4,
  "vscode": {
   "interpreter": {
    "hash": "bd385fe162c5ca0c84973b7dd5c518456272446b2b64e67c2a69f949ca7a1754"
   }
  }
 },
 "nbformat": 4,
 "nbformat_minor": 2
}
